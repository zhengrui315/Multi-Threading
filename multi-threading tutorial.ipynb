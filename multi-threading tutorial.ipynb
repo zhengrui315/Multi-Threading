{
 "cells": [
  {
   "cell_type": "markdown",
   "metadata": {},
   "source": [
    "# Multithreading Tutorial"
   ]
  },
  {
   "cell_type": "markdown",
   "metadata": {},
   "source": [
    "Python Global Interpreter Lock (**[GIL](https://realpython.com/python-gil/)**) allows only one thread to hold the python interpreter. It means only one thread can execute each time. Even if there are multiple CPU or cores, only one CPU will be used.  This limitation means **threading** module in python works well only for IO-bound tasks. This is different in other programming languages such as C, JAVA. For CPU-bound tasks, we can still use **multiprocessing** module in Python. \n",
    "- https://realpython.com/intro-to-python-threading/#using-a-threadpoolexecutor\n",
    "- https://docs.python.org/3/library/threading.html\n"
   ]
  },
  {
   "cell_type": "code",
   "execution_count": 6,
   "metadata": {},
   "outputs": [],
   "source": [
    "import logging\n",
    "from threading import Thread, current_thread\n",
    "import time"
   ]
  },
  {
   "cell_type": "markdown",
   "metadata": {},
   "source": [
    "## Get Started"
   ]
  },
  {
   "cell_type": "code",
   "execution_count": 19,
   "metadata": {},
   "outputs": [
    {
     "name": "stderr",
     "output_type": "stream",
     "text": [
      "20:59:43: Main    : create and start thread 0.\n",
      "20:59:43: Thread 0: starting\n",
      "20:59:43: Main    : create and start thread 1.\n",
      "20:59:43: Thread 1: starting\n",
      "20:59:43: Main    : create and start thread 2.\n",
      "20:59:43: Thread 2: starting\n",
      "20:59:43: Main    : before joining thread 0.\n"
     ]
    },
    {
     "name": "stdout",
     "output_type": "stream",
     "text": [
      "The current thread is MainThread\n"
     ]
    },
    {
     "name": "stderr",
     "output_type": "stream",
     "text": [
      "20:59:45: Thread 0: finishing\n",
      "20:59:45: Main    : thread 0 done\n",
      "20:59:45: Main    : before joining thread 1.\n",
      "20:59:45: Thread 1: finishing\n",
      "20:59:45: Main    : thread 1 done\n",
      "20:59:45: Thread 2: finishing\n",
      "20:59:45: Main    : before joining thread 2.\n",
      "20:59:45: Main    : thread 2 done\n"
     ]
    }
   ],
   "source": [
    "def thread_function(name):\n",
    "    logging.info(\"Thread %s: starting\", name)\n",
    "    time.sleep(2)\n",
    "    logging.info(\"Thread %s: finishing\", name)\n",
    "\n",
    "if __name__ == \"__main__\":\n",
    "    print(f\"The current thread is {current_thread().name}\")\n",
    "    \n",
    "    format = \"%(asctime)s: %(message)s\"\n",
    "    logging.basicConfig(format=format, level=logging.INFO,\n",
    "                        datefmt=\"%H:%M:%S\")\n",
    "\n",
    "    threads = list()\n",
    "    for index in range(3):\n",
    "        logging.info(\"Main    : create and start thread %d.\", index)\n",
    "        x = threading.Thread(target=thread_function, args=(index,))\n",
    "        threads.append(x)\n",
    "        x.start()\n",
    "\n",
    "    for index, thread in enumerate(threads):\n",
    "        logging.info(\"Main    : before joining thread %d.\", index)\n",
    "        thread.join()\n",
    "        logging.info(\"Main    : thread %d done\", index)\n",
    "    "
   ]
  },
  {
   "cell_type": "markdown",
   "metadata": {},
   "source": [
    "In the above code, only one new thread is created, so there are two threads including the default one. Here `x.start()` starts the thread, `x.join()` will wait until the thread is done before moving to the next line. If `x.join()` is omitted, the last line will execute before the thread is finished. \n",
    "\n",
    "If we define the new thread as daemon thread by \n",
    "```x = Thread(target=thread_function, args=(1,), daemon=True)```, the last line in `thread_function` wouldn't run because when the main thread finishes, all daemon threads will be stopped without completion. Note that this statement applies only when running as a python script, not in jupyter notebook.\n",
    "\n",
    "If `thread_function` has a return value, it's not easy to get them this way. But we can pass a mutable variable into it to store result, or use **ThreadPoolExecutor**. "
   ]
  },
  {
   "cell_type": "markdown",
   "metadata": {},
   "source": [
    "## ThreadPoolExecutor"
   ]
  },
  {
   "cell_type": "code",
   "execution_count": 20,
   "metadata": {},
   "outputs": [
    {
     "name": "stderr",
     "output_type": "stream",
     "text": [
      "21:01:43: Thread 0: starting\n",
      "21:01:43: Thread 1: starting\n",
      "21:01:43: Thread 2: starting\n",
      "21:01:45: Thread 0: finishing\n",
      "21:01:45: Thread 1: finishing\n",
      "21:01:45: Thread 2: finishing\n"
     ]
    }
   ],
   "source": [
    "import concurrent.futures\n",
    "\n",
    "def thread_function(name):\n",
    "    logging.info(\"Thread %s: starting\", name)\n",
    "    time.sleep(2)\n",
    "    logging.info(\"Thread %s: finishing\", name)\n",
    "\n",
    "if __name__ == \"__main__\":\n",
    "    format = \"%(asctime)s: %(message)s\"\n",
    "    logging.basicConfig(format=format, level=logging.INFO,\n",
    "                        datefmt=\"%H:%M:%S\")\n",
    "\n",
    "    with concurrent.futures.ThreadPoolExecutor(max_workers=3) as executor:\n",
    "        executor.map(thread_function, range(3))"
   ]
  },
  {
   "cell_type": "markdown",
   "metadata": {},
   "source": [
    "The end of the with block causes the ThreadPoolExecutor to do a `.join()` on each of the threads in the pool. It is strongly recommended that you use ThreadPoolExecutor as a context manager when you can so that you never forget to `.join()` the threads."
   ]
  },
  {
   "cell_type": "code",
   "execution_count": 26,
   "metadata": {},
   "outputs": [
    {
     "name": "stderr",
     "output_type": "stream",
     "text": [
      "21:15:39: Thread 99: starting\n",
      "21:15:41: Thread 99: finishing\n"
     ]
    },
    {
     "name": "stdout",
     "output_type": "stream",
     "text": [
      "99\n",
      "All done\n"
     ]
    }
   ],
   "source": [
    "def thread_function(name):\n",
    "    logging.info(\"Thread %s: starting\", name)\n",
    "    time.sleep(2)\n",
    "    logging.info(\"Thread %s: finishing\", name)\n",
    "    return name\n",
    "\n",
    "if __name__ == \"__main__\":\n",
    "    format = \"%(asctime)s: %(message)s\"\n",
    "    logging.basicConfig(format=format, level=logging.INFO,m\n",
    "                        datefmt=\"%H:%M:%S\")\n",
    "\n",
    "    with concurrent.futures.ThreadPoolExecutor(max_workers=3) as executor:\n",
    "        x = executor.submit(thread_function, 99)\n",
    "        print(x.result())\n",
    "    \n",
    "    print(\"All done\")"
   ]
  },
  {
   "cell_type": "markdown",
   "metadata": {},
   "source": [
    "## Lock"
   ]
  },
  {
   "cell_type": "markdown",
   "metadata": {},
   "source": [
    "Different processes are allocated different memories, but different threads in the same process can share memory. If multiple threads can write to the same variable, **race condition** could happen.\n",
    "\n",
    "\n",
    "- `lock = Lock()`\n",
    "- `lock.acquire()`\n",
    "- `lock.release()`\n",
    "- `lock.locked()`"
   ]
  },
  {
   "cell_type": "code",
   "execution_count": 27,
   "metadata": {},
   "outputs": [
    {
     "name": "stderr",
     "output_type": "stream",
     "text": [
      "21:19:48: Testing update. Starting value is 0.\n",
      "21:19:48: Thread 0: starting update\n",
      "21:19:48: Thread 1: starting update\n",
      "21:19:48: Thread 0: finishing update\n",
      "21:19:48: Thread 1: finishing update\n",
      "21:19:48: Testing update. Ending value is 1.\n"
     ]
    }
   ],
   "source": [
    "class FakeDatabase:\n",
    "    def __init__(self):\n",
    "        self.value = 0\n",
    "\n",
    "    def update(self, name): \n",
    "        logging.info(\"Thread %s: starting update\", name)\n",
    "        local_copy = self.value\n",
    "        local_copy += 1\n",
    "        time.sleep(0.1)\n",
    "        self.value = local_copy\n",
    "        logging.info(\"Thread %s: finishing update\", name)\n",
    "        \n",
    "if __name__ == \"__main__\":\n",
    "    format = \"%(asctime)s: %(message)s\"\n",
    "    logging.basicConfig(format=format, level=logging.INFO,\n",
    "                        datefmt=\"%H:%M:%S\")\n",
    "\n",
    "    database = FakeDatabase()\n",
    "    logging.info(\"Testing update. Starting value is %d.\", database.value)\n",
    "    with concurrent.futures.ThreadPoolExecutor(max_workers=2) as executor:\n",
    "        for index in range(2):\n",
    "            executor.submit(database.update, index)\n",
    "    logging.info(\"Testing update. Ending value is %d.\", database.value)        \n",
    "        \n"
   ]
  },
  {
   "cell_type": "markdown",
   "metadata": {},
   "source": [
    "Here each thread will increment the value by 1, so the expected value is 2, but we get 1 due to race condition. We can use lock to solve this problem. "
   ]
  },
  {
   "cell_type": "code",
   "execution_count": 28,
   "metadata": {
    "scrolled": true
   },
   "outputs": [
    {
     "name": "stderr",
     "output_type": "stream",
     "text": [
      "21:22:33: Testing update. Starting value is 0.\n",
      "21:22:33: Thread 0: starting update\n",
      "21:22:33: Thread 0: finishing update\n",
      "21:22:33: Thread 1: starting update\n",
      "21:22:33: Thread 1: finishing update\n",
      "21:22:33: Testing update. Ending value is 2.\n"
     ]
    }
   ],
   "source": [
    "from threading import Lock\n",
    "\n",
    "class FakeDatabase:\n",
    "    def __init__(self):\n",
    "        self.value = 0\n",
    "        self.lock = Lock()\n",
    "\n",
    "    def update(self, name): \n",
    "        self.lock.acquire()\n",
    "        logging.info(\"Thread %s: starting update\", name)\n",
    "        local_copy = self.value\n",
    "        local_copy += 1\n",
    "        time.sleep(0.1)\n",
    "        self.value = local_copy\n",
    "        logging.info(\"Thread %s: finishing update\", name)\n",
    "        self.lock.release()\n",
    "        \n",
    "if __name__ == \"__main__\":\n",
    "    format = \"%(asctime)s: %(message)s\"\n",
    "    logging.basicConfig(format=format, level=logging.INFO,\n",
    "                        datefmt=\"%H:%M:%S\")\n",
    "\n",
    "    database = FakeDatabase()\n",
    "    logging.info(\"Testing update. Starting value is %d.\", database.value)\n",
    "    with concurrent.futures.ThreadPoolExecutor(max_workers=2) as executor:\n",
    "        for index in range(2):\n",
    "            executor.submit(database.update, index)\n",
    "    logging.info(\"Testing update. Ending value is %d.\", database.value)    "
   ]
  },
  {
   "cell_type": "markdown",
   "metadata": {},
   "source": [
    "When we are ready to update the value, get the lock first by `lock.acquire()`, then the lock is not available to other threads so they have to wait before the lock is released. We can also use lock as a context manager with the `with` statement so the `update` method becomes:\n",
    "``` \n",
    "    def update(self, name): \n",
    "        with self.lock:\n",
    "            logging.info(\"Thread %s: starting update\", name)\n",
    "            local_copy = self.value\n",
    "            local_copy += 1\n",
    "            time.sleep(0.1)\n",
    "            self.value = local_copy\n",
    "            logging.info(\"Thread %s: finishing update\", name)\n",
    "```"
   ]
  },
  {
   "cell_type": "markdown",
   "metadata": {},
   "source": [
    "Note that we should call `lock.acquire()` twice. It will lead to dead lock, for instance:\n",
    "```\n",
    "import threading\n",
    "\n",
    "l = threading.Lock()\n",
    "print(\"before first acquire\")\n",
    "l.acquire()\n",
    "print(\"before second acquire\")\n",
    "l.acquire()\n",
    "print(\"acquired lock twice\")\n",
    "```"
   ]
  },
  {
   "cell_type": "markdown",
   "metadata": {},
   "source": [
    "There is another object called **RLock**. It allows the same thread to call `lock.acquire()` multiple times. The thread must release the lock at least once to set the lock back to unlocked state for other threads to use."
   ]
  },
  {
   "cell_type": "markdown",
   "metadata": {},
   "source": [
    "## Semaphore"
   ]
  },
  {
   "cell_type": "markdown",
   "metadata": {},
   "source": [
    "Only one thread can hold a lock. When we want to have more than one thread to work, we can use **Semaphore**. There is an internal counter. It is incremented when you call `.release()` and decremented when you call `.acquire()`. The counter value can be negative, can also exceed the initial value set at initialization. There is also `BoundedSemaphore` object, for which exceeding initial value would raise **ValueError**.\n",
    "\n",
    "The next special property is that if a thread calls `.acquire()` when the counter is zero, that thread will block until a different thread calls `.release()` and increments the counter to one.\n",
    "\n",
    "\n",
    "- `sem = Semaphore(value=1)`, the default value is 1\n",
    "- `sem.acquire()`\n",
    "- `sem.release(n=1)`, increment the internal counter by `n`, the defautl value is `1`"
   ]
  },
  {
   "cell_type": "code",
   "execution_count": 33,
   "metadata": {},
   "outputs": [
    {
     "name": "stdout",
     "output_type": "stream",
     "text": [
      "thread-1: entering\n",
      "thread-1: starting\n",
      "thread-2: entering\n",
      "thread-2: starting\n",
      "thread-3: entering\n",
      "thread-3: starting\n",
      "thread-4: entering\n",
      "thread-5: entering\n",
      "thread-1: finishing\n",
      "thread-4: starting\n",
      "thread-2: finishing\n",
      "thread-5: starting\n",
      "thread-3: finishing\n",
      "thread-4: finishing\n",
      "thread-5: finishing\n"
     ]
    }
   ],
   "source": [
    "from threading import Semaphore\n",
    "\n",
    "sem = Semaphore(3)\n",
    "\n",
    "def func(idx):\n",
    "    print(f\"thread-{idx}: entering\")\n",
    "    sem.acquire()\n",
    "    print(f\"thread-{idx}: starting\")\n",
    "    time.sleep(idx)\n",
    "    print(f\"thread-{idx}: finishing\")\n",
    "    sem.release()\n",
    "    \n",
    "    \n",
    "with concurrent.futures.ThreadPoolExecutor(max_workers = 5) as executor:\n",
    "    executor.map(func, range(1, 6))"
   ]
  },
  {
   "cell_type": "code",
   "execution_count": 41,
   "metadata": {},
   "outputs": [
    {
     "name": "stdout",
     "output_type": "stream",
     "text": [
      "executing func_rel\n",
      "executing func_acq\n",
      "executing func_rel\n",
      "executing func_acq\n",
      "executing func_rel\n",
      "executing func_acq\n"
     ]
    }
   ],
   "source": [
    "from threading import Semaphore\n",
    "from time import sleep\n",
    "\n",
    "sem = Semaphore(0)\n",
    "\n",
    "def func_acq():\n",
    "    sem.acquire()\n",
    "    print(\"executing func_acq\")\n",
    "    \n",
    "def func_rel():\n",
    "    print(\"executing func_rel\")\n",
    "    sem.release()\n",
    "    \n",
    "\n",
    "\n",
    "with concurrent.futures.ThreadPoolExecutor(max_workers = 5) as executor:\n",
    "    for _ in range(3):\n",
    "        executor.submit(func_acq)\n",
    "    for _ in range(3):\n",
    "        sleep(1)\n",
    "        executor.submit(func_rel)\n"
   ]
  },
  {
   "cell_type": "markdown",
   "metadata": {},
   "source": [
    "## Timer"
   ]
  },
  {
   "cell_type": "code",
   "execution_count": 36,
   "metadata": {},
   "outputs": [
    {
     "name": "stdout",
     "output_type": "stream",
     "text": [
      "thread-1: entering\n",
      "thread-1: starting\n",
      "thread-2: entering\n",
      "thread-2: starting\n",
      "thread-3: entering\n",
      "thread-3: starting\n",
      "thread-4: enteringthread-5: entering\n",
      "\n",
      "thread-1: finishing\n",
      "thread-5: starting\n",
      "new-thread: running after 2 seconds\n",
      "thread-2: finishing\n",
      "thread-4: starting\n",
      "thread-3: finishing\n",
      "thread-5: finishingthread-4: finishing\n",
      "\n"
     ]
    }
   ],
   "source": [
    "from threading import Semaphore, Timer\n",
    "\n",
    "sem = Semaphore(3)\n",
    "thread = Timer(2, lambda t: print(f\"new-thread: running after {t} seconds\"), (2,))\n",
    "thread.start()\n",
    "\n",
    "def func(idx):\n",
    "    print(f\"thread-{idx}: entering\")\n",
    "    sem.acquire()\n",
    "    print(f\"thread-{idx}: starting\")\n",
    "    time.sleep(idx)\n",
    "    print(f\"thread-{idx}: finishing\")\n",
    "    sem.release()\n",
    "    \n",
    "    \n",
    "with concurrent.futures.ThreadPoolExecutor(max_workers = 5) as executor:\n",
    "    executor.map(func, range(1, 6))"
   ]
  },
  {
   "cell_type": "markdown",
   "metadata": {},
   "source": [
    "## Barrier"
   ]
  },
  {
   "cell_type": "markdown",
   "metadata": {},
   "source": [
    "- `barrier = Barrier(parties)`\n",
    "- `barrier.wait()`\n",
    "- `barrier.parties`\n",
    "- `barrier.n_waiting`"
   ]
  },
  {
   "cell_type": "code",
   "execution_count": 43,
   "metadata": {},
   "outputs": [
    {
     "name": "stdout",
     "output_type": "stream",
     "text": [
      "Game starts now…\n",
      "Alice reached the barrier at: 0 \n",
      "\n",
      "The number of current waiting threads is 0\n",
      "Bob reached the barrier at: 1 \n",
      "\n",
      "The number of current waiting threads is 1\n",
      "Bob overcomed the barrier at: 1 \n",
      "\n",
      "Alice overcomed the barrier at: 1 \n",
      "\n",
      "Charlie reached the barrier at: 2 \n",
      "\n",
      "The number of current waiting threads is 0\n",
      "David reached the barrier at: 3 \n",
      "\n",
      "The number of current waiting threads is 1\n",
      "David overcomed the barrier at: 3 \n",
      "\n",
      "Charlie overcomed the barrier at: 3 \n",
      "\n",
      "Game ends!\n"
     ]
    }
   ],
   "source": [
    "from threading import Barrier, Thread\n",
    "from time import sleep, time\n",
    "\n",
    "num = 2\n",
    "\n",
    "# People will reach barrier and they can climb over the barrier only in group of \"num\" at each time\n",
    "b = Barrier(num)\n",
    "names = ['Alice', 'Bob', 'Charlie', 'David']\n",
    "\n",
    "start = time()\n",
    "def player(name):\n",
    "    print('%s reached the barrier at: %s \\n' % (name, int(time() - start)))\n",
    "    print(f'The number of current waiting threads is {b.n_waiting}')\n",
    "    b.wait()\n",
    "    print('%s overcomed the barrier at: %s \\n' % (name, int(time() - start)))\n",
    "\n",
    "\n",
    "threads = []\n",
    "print(\"Game starts now…\")\n",
    "\n",
    "for i in range(4):\n",
    "    threads.append(Thread(target=player, args=(names[i],)))\n",
    "    threads[-1].start()\n",
    "    sleep(1)\n",
    "\n",
    "for thread in threads:\n",
    "    thread.join()\n",
    "\n",
    "print(\"Game ends!\")"
   ]
  },
  {
   "cell_type": "markdown",
   "metadata": {},
   "source": [
    "## Condition"
   ]
  },
  {
   "cell_type": "markdown",
   "metadata": {},
   "source": [
    "https://docs.python.org/3/library/threading.html#condition-objects\n",
    "\n",
    "* `condition = Condition(lock=None)`\\\n",
    "   default is creating a new lock\n",
    "* `condition.acquire()`\\\n",
    "    acquire the internal lock\n",
    "* `condition.release()`\n",
    "* `condition.wait(timeout=None)`\\\n",
    "    wait for either `condition.notify()`, `condition.notify_all()` from another thread or timeout. \n",
    "    - It also releases the lock and wait for notification\n",
    "    - re-acquire once it's notified.\n",
    "* `condition.wait_for(predicate, timeout=None)`\\\n",
    "    Wait until a condition evaluates to true. predicate should be a callable which result will be interpreted as a boolean value. A timeout may be provided giving the maximum time to wait. Neglecting `timeout`, it's equivalent to calling `condition.wait()` in a `while True` loop.\n",
    "* `condition.notify(n=1)`\n",
    "* `condition.notify_all()`\n",
    "\n",
    "**Note**: the notify() and notify_all() methods don’t release the lock; this means that the thread or threads awakened will not return from their wait() call immediately, but only when the thread that called notify() or notify_all() finally relinquishes ownership of the lock.\n"
   ]
  },
  {
   "cell_type": "markdown",
   "metadata": {},
   "source": [
    "## Event"
   ]
  },
  {
   "cell_type": "markdown",
   "metadata": {},
   "source": [
    "An event manages a flag that can be set to true with the `set()` method and reset to false with the `clear()` method. The `wait()` method blocks until the flag is true. The flag is **initially** false.\n",
    "\n",
    "- `event = Event()`\n",
    "- `event.set()`, set the internal flag to True\n",
    "- `event.is_set()`, \n",
    "- `event.clear()`\n",
    "- `event.wait()`"
   ]
  },
  {
   "cell_type": "code",
   "execution_count": null,
   "metadata": {},
   "outputs": [],
   "source": []
  }
 ],
 "metadata": {
  "kernelspec": {
   "display_name": "Python 3",
   "language": "python",
   "name": "python3"
  },
  "language_info": {
   "codemirror_mode": {
    "name": "ipython",
    "version": 3
   },
   "file_extension": ".py",
   "mimetype": "text/x-python",
   "name": "python",
   "nbconvert_exporter": "python",
   "pygments_lexer": "ipython3",
   "version": "3.6.3"
  }
 },
 "nbformat": 4,
 "nbformat_minor": 2
}
